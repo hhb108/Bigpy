{
  "nbformat": 4,
  "nbformat_minor": 0,
  "metadata": {
    "colab": {
      "provenance": [],
      "collapsed_sections": [
        "AZyLABVbI_kc",
        "7d4KErfBMqMM"
      ]
    },
    "kernelspec": {
      "name": "python3",
      "display_name": "Python 3"
    },
    "language_info": {
      "name": "python"
    }
  },
  "cells": [
    {
      "cell_type": "markdown",
      "source": [
        "# 02-1 숫자형"
      ],
      "metadata": {
        "id": "AZyLABVbI_kc"
      }
    },
    {
      "cell_type": "code",
      "execution_count": null,
      "metadata": {
        "colab": {
          "base_uri": "https://localhost:8080/"
        },
        "id": "wAKM0T8II7I_",
        "outputId": "29234d49-400f-41be-cc8a-1c0930accd28"
      },
      "outputs": [
        {
          "output_type": "stream",
          "name": "stdout",
          "text": [
            "123\n",
            "-123\n",
            "0\n"
          ]
        }
      ],
      "source": [
        "#1-1 정수형\n",
        "a = 123\n",
        "print(a)\n",
        "a = -123\n",
        "print(a)\n",
        "a = 0\n",
        "print(a)"
      ]
    },
    {
      "cell_type": "code",
      "source": [
        "#1-2 실수형\n",
        "a = 1.2\n",
        "print(a)\n",
        "a = -45.164\n",
        "print(a)"
      ],
      "metadata": {
        "colab": {
          "base_uri": "https://localhost:8080/"
        },
        "id": "w8_S3xrgJfqY",
        "outputId": "ffea48eb-a86b-4d2e-bb3b-81503eff7ab2"
      },
      "execution_count": null,
      "outputs": [
        {
          "output_type": "stream",
          "name": "stdout",
          "text": [
            "1.2\n",
            "-45.164\n"
          ]
        }
      ]
    },
    {
      "cell_type": "code",
      "source": [
        "a = 4.24E10 #==4.24e10, 4.24*10^10\n",
        "print(a)\n",
        "a = 4.24e-10 #4.24^(-10)\n",
        "print(a)"
      ],
      "metadata": {
        "colab": {
          "base_uri": "https://localhost:8080/"
        },
        "id": "LBQidRV7KWja",
        "outputId": "7278787b-8990-4c3b-ec51-a299863d9c41"
      },
      "execution_count": null,
      "outputs": [
        {
          "output_type": "stream",
          "name": "stdout",
          "text": [
            "42400000000.0\n",
            "4.24e-10\n"
          ]
        }
      ]
    },
    {
      "cell_type": "code",
      "source": [
        "#1-3 8진수와 16진수\n",
        "print(\"8진수\")\n",
        "a = 0o177\n",
        "print(a)\n",
        "print(\"=====\")\n",
        "print(\"16진수\")\n",
        "a = 0xABC #10(A)*16^2 + 11(B)*16^2 + 12(C)\n",
        "b = 0x8ff\n",
        "print(a)\n",
        "print(b)"
      ],
      "metadata": {
        "colab": {
          "base_uri": "https://localhost:8080/"
        },
        "id": "4a31M-mXJfsz",
        "outputId": "275370d7-5199-4a1f-f953-a313c7cf3ad8"
      },
      "execution_count": null,
      "outputs": [
        {
          "output_type": "stream",
          "name": "stdout",
          "text": [
            "8진수\n",
            "127\n",
            "=====\n",
            "16진수\n",
            "2748\n",
            "2303\n"
          ]
        }
      ]
    },
    {
      "cell_type": "code",
      "source": [
        "#2-1  연산자 : 사칙연산\n",
        "a = 3\n",
        "b = 4\n",
        "print(a+b)\n",
        "print(a+b)\n",
        "print(a*b)\n",
        "print(a/b)"
      ],
      "metadata": {
        "colab": {
          "base_uri": "https://localhost:8080/"
        },
        "id": "xD5tjtLYJfuu",
        "outputId": "84394b30-5426-4c26-c107-38cdab4d8515"
      },
      "execution_count": null,
      "outputs": [
        {
          "output_type": "stream",
          "name": "stdout",
          "text": [
            "7\n",
            "7\n",
            "12\n",
            "0.75\n"
          ]
        }
      ]
    },
    {
      "cell_type": "code",
      "source": [
        "#2-2 연산자 : 제곱\n",
        "print(a**b)"
      ],
      "metadata": {
        "colab": {
          "base_uri": "https://localhost:8080/"
        },
        "id": "lkFSqkmNJfww",
        "outputId": "40489dc8-91c3-4af7-f42a-f9fb28dcff8e"
      },
      "execution_count": null,
      "outputs": [
        {
          "output_type": "stream",
          "name": "stdout",
          "text": [
            "81\n"
          ]
        }
      ]
    },
    {
      "cell_type": "code",
      "source": [
        "#2-3~4 연산자 : 나머지\n",
        "print(5%2)\n",
        "print(5//2)\n",
        "print(5/2)"
      ],
      "metadata": {
        "colab": {
          "base_uri": "https://localhost:8080/"
        },
        "id": "l5X5GWneJfyw",
        "outputId": "1036b737-1ed7-4ea7-ab4b-223e0ebd106a"
      },
      "execution_count": null,
      "outputs": [
        {
          "output_type": "stream",
          "name": "stdout",
          "text": [
            "1\n",
            "2\n",
            "2.5\n"
          ]
        }
      ]
    },
    {
      "cell_type": "code",
      "source": [
        "#2-5 연산자 : 복합연산자\n",
        "a = 5\n",
        "a += 1 #== a = a + 1\n",
        "print(a)"
      ],
      "metadata": {
        "colab": {
          "base_uri": "https://localhost:8080/"
        },
        "id": "zQSY3yZRJf2t",
        "outputId": "4d606b45-56ed-45cd-dfc5-dcd88c82bf26"
      },
      "execution_count": null,
      "outputs": [
        {
          "output_type": "stream",
          "name": "stdout",
          "text": [
            "6\n"
          ]
        }
      ]
    },
    {
      "cell_type": "markdown",
      "source": [
        "# 02-2 문자열 자료형"
      ],
      "metadata": {
        "id": "7d4KErfBMqMM"
      }
    },
    {
      "cell_type": "code",
      "source": [
        "#1~3 문자열 사용\n",
        "print(\"Hello World\") #1.큰따옴표로 양쪽 둘러싸기\n",
        "print(\"Python's favorite food is perl\")\n",
        "print(\"-------------------------------\")\n",
        "print('Hello World') #2. 작은 따옴표로 양쪽 둘러싸기)"
      ],
      "metadata": {
        "colab": {
          "base_uri": "https://localhost:8080/"
        },
        "id": "71rgBIIuNQSz",
        "outputId": "af7935ce-a405-4bf0-879f-0607ad27837a"
      },
      "execution_count": null,
      "outputs": [
        {
          "output_type": "stream",
          "name": "stdout",
          "text": [
            "Hello World\n",
            "Python's favorite food is perl\n",
            "-------------------------------\n",
            "Hello World\n"
          ]
        }
      ]
    },
    {
      "cell_type": "code",
      "source": [
        "#역슬래시 사용해 작은따옴표, 큰따옴표 문자열에 포함시키기\n",
        "food = 'Python\\'s favorite food is perl' #작은 따옴표 앞에 역슬래시\n",
        "say = \"\\\"Python is very easy.\\\" he says\" #큰 따옴표 앞에 역슬래시\n",
        "print(food)\n",
        "print(say)"
      ],
      "metadata": {
        "colab": {
          "base_uri": "https://localhost:8080/"
        },
        "id": "EZXT-3LAOaA8",
        "outputId": "f7c32ee7-5760-43b2-91cf-b9e22748cf8c"
      },
      "execution_count": null,
      "outputs": [
        {
          "output_type": "stream",
          "name": "stdout",
          "text": [
            "Python's favorite food is perl\n",
            "\"Python is very easy.\" he says\n"
          ]
        }
      ]
    },
    {
      "cell_type": "code",
      "source": [
        "1\n",
        "#1. 이스케이프 코드 \\n 삽입\n",
        "multiline = \"Life is too short\\nYou need python\"\n",
        "print(multiline)\n",
        "print(\"=======================\")\n",
        "#2. 연속된 작은/큰 따옴표 3개\n",
        "multiline = '''\n",
        "Life is too short\n",
        "You need python\n",
        "'''\n",
        "print(multiline)\n",
        "multiline = \"\"\"\n",
        "Life is too short\n",
        "You need python\n",
        "\"\"\"\n",
        "print(multiline)"
      ],
      "metadata": {
        "colab": {
          "base_uri": "https://localhost:8080/"
        },
        "id": "u_KHJvZJPCvw",
        "outputId": "f083a1ea-b14a-4099-f986-57d9b6eaa2f5"
      },
      "execution_count": null,
      "outputs": [
        {
          "output_type": "stream",
          "name": "stdout",
          "text": [
            "Life is too short\n",
            "You need python\n",
            "=======================\n",
            "\n",
            "Life is too short\n",
            "You need python\n",
            "\n",
            "\n",
            "Life is too short\n",
            "You need python\n",
            "\n"
          ]
        }
      ]
    },
    {
      "cell_type": "code",
      "source": [
        "#이스케이프 코드\n",
        "'''\n",
        "\\n : 문자열 안에서 줄을 바꿀 때 사용\n",
        "\\t : 문자열 사이에 탭 간격을 줄 때 사용\n",
        "\\\\ : \\를 그대로 표현할 때 사용\n",
        "\\' : 작은따옴표(')를 그대로 표현할 때 사용\n",
        "\\\" : 큰따옴표(\")를 그대로 표현할 때 사용\n",
        "===============================================\n",
        "\\r : 캐리지 리턴(줄 바꿈 문자, 커서를 현재 줄의 가장 앞으로 이동)\n",
        "\\f : 폼 피드(줄 바꿈 문자, 커서를 현재 줄의 다음 줄로 이동)\n",
        "\\a : 벨 소리(출력할 때 PC 스피커에서 '삑' 소리가 난다)\n",
        "\\b : 백 스페이스\n",
        "\\000 : 널 문자\n",
        "'''"
      ],
      "metadata": {
        "id": "5G_fg6tVQKUd"
      },
      "execution_count": null,
      "outputs": []
    },
    {
      "cell_type": "code",
      "source": [
        "#4. 문자열 연산"
      ],
      "metadata": {
        "id": "Iwbq7s9aQKWk"
      },
      "execution_count": null,
      "outputs": []
    },
    {
      "cell_type": "code",
      "source": [
        "#4-1 문자열 더하기\n",
        "head = \"Python\"\n",
        "tail = \" is fun!\"\n",
        "head + tail"
      ],
      "metadata": {
        "colab": {
          "base_uri": "https://localhost:8080/",
          "height": 36
        },
        "id": "2_TA7noLQKY6",
        "outputId": "702ee40b-b48d-426d-8e6d-d8467f4fcac6"
      },
      "execution_count": null,
      "outputs": [
        {
          "output_type": "execute_result",
          "data": {
            "text/plain": [
              "'Python is fun!'"
            ],
            "application/vnd.google.colaboratory.intrinsic+json": {
              "type": "string"
            }
          },
          "metadata": {},
          "execution_count": 26
        }
      ]
    },
    {
      "cell_type": "code",
      "source": [
        "#4-2 문자열 곱하기\n",
        "print(head * 2)\n",
        "#응용\n",
        "print(\"=\" * 50)\n",
        "print(\"My Program\")\n",
        "print(\"=\" * 50)"
      ],
      "metadata": {
        "colab": {
          "base_uri": "https://localhost:8080/"
        },
        "id": "zUDKcamnQKbN",
        "outputId": "fa513682-87ff-4cbb-b1f0-a7629a9517e4"
      },
      "execution_count": null,
      "outputs": [
        {
          "output_type": "stream",
          "name": "stdout",
          "text": [
            "PythonPython\n",
            "==================================================\n",
            "My Program\n",
            "==================================================\n"
          ]
        }
      ]
    },
    {
      "cell_type": "markdown",
      "source": [
        "![image.png](data:image/png;base64,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)"
      ],
      "metadata": {
        "id": "FMew4kGGU9Cn"
      }
    },
    {
      "cell_type": "code",
      "source": [
        "#4-3 문자열 길이 구하기\n",
        "a = \"Life is too short\"\n",
        "len(a)"
      ],
      "metadata": {
        "colab": {
          "base_uri": "https://localhost:8080/"
        },
        "id": "93aZ9rlMQKdY",
        "outputId": "054655dc-8e44-4068-8caf-0c86e83e2ad8"
      },
      "execution_count": null,
      "outputs": [
        {
          "output_type": "execute_result",
          "data": {
            "text/plain": [
              "17"
            ]
          },
          "metadata": {},
          "execution_count": 30
        }
      ]
    },
    {
      "cell_type": "code",
      "source": [
        "#4-4 인덱싱, 슬라이싱\n",
        "print(\"인덱싱==================\")\n",
        "a = \"Life is too short, You need Python\"\n",
        "print(a[5])\n",
        "print(a[0]) # ==a[-0]\n",
        "print(a[-2])\n",
        "print(a[2:5])\n",
        "print(\"슬라이싱===============\")\n",
        "b = a[0] + a[1] + a[2] + a[3]\n",
        "print(b)\n",
        "print(a[0:3]) #0 <= a < 3\n",
        "print(a[3:8])\n",
        "print(a[19:])\n",
        "print(a[:])"
      ],
      "metadata": {
        "colab": {
          "base_uri": "https://localhost:8080/"
        },
        "id": "zTU0bsNaQKfy",
        "outputId": "23e2d482-2f4f-4007-d42c-b0edbaedaeb8"
      },
      "execution_count": null,
      "outputs": [
        {
          "output_type": "stream",
          "name": "stdout",
          "text": [
            "인덱싱==================\n",
            "i\n",
            "L\n",
            "o\n",
            "fe \n",
            "슬라이싱===============\n",
            "Life\n",
            "Lif\n",
            "e is \n",
            "You need Python\n",
            "Life is too short, You need Python\n"
          ]
        }
      ]
    },
    {
      "cell_type": "code",
      "source": [
        "#슬라이싱으로 문자열 나누기\n",
        "a = \"20250320Rainy\"\n",
        "date = a[:8]\n",
        "weather = a[8:]\n",
        "print(date)\n",
        "print(weather)"
      ],
      "metadata": {
        "id": "1ed9-FF5auI4",
        "colab": {
          "base_uri": "https://localhost:8080/"
        },
        "outputId": "5cb0dac8-1f9c-4c2f-ac34-536ded1f9fd2"
      },
      "execution_count": null,
      "outputs": [
        {
          "output_type": "stream",
          "name": "stdout",
          "text": [
            "20250320\n",
            "Rainy\n"
          ]
        }
      ]
    },
    {
      "cell_type": "code",
      "source": [
        "#4-5 문자열 포매팅\n",
        "#1. 숫자 바로 대입, %d : 숫자\n",
        "print(\"I eat %d apples.\" %3)\n",
        "#2. 문자열 바로 대입, %s : 문자열\n",
        "print(\"I eat %s apples.\" %\"five\")\n",
        "#3. 변수로 대입\n",
        "num = 3\n",
        "print(\"I eat %d apples.\" %num)\n",
        "#4. 2개 이상의 값 넣기\n",
        "num = 10\n",
        "day = \"three\"\n",
        "print(\"I ate %d apples. so I was sick for %s days\" %(num, day))"
      ],
      "metadata": {
        "id": "FF_fdSePQKhh",
        "colab": {
          "base_uri": "https://localhost:8080/"
        },
        "outputId": "9c467128-dd8a-4b8b-e4d7-d21873b4e0ac"
      },
      "execution_count": null,
      "outputs": [
        {
          "output_type": "stream",
          "name": "stdout",
          "text": [
            "I eat 3 apples.\n",
            "I eat five apples.\n",
            "I eat 3 apples.\n",
            "I ate 10 apples. so I was sick for three days\n"
          ]
        }
      ]
    },
    {
      "cell_type": "code",
      "source": [
        "#4-6 문자열 포맷코드"
      ],
      "metadata": {
        "id": "pWV1HgtaQKlE"
      },
      "execution_count": null,
      "outputs": []
    },
    {
      "cell_type": "code",
      "source": [
        "'''\n",
        "문자열 포맷 코드\n",
        "%s :\t문자열(String)\n",
        "%c :\t문자 1개(character)\n",
        "%d :\t정수(Integer)**\n",
        "%f :\t부동소수(floating-point)\n",
        "%o :\t8진수\n",
        "%x :\t16진수\n",
        "%% :\tLiteral % (문자 % 자체)\n",
        "'''"
      ],
      "metadata": {
        "id": "H3tB6jUNJwfO"
      },
      "execution_count": null,
      "outputs": []
    },
    {
      "cell_type": "code",
      "source": [
        "# #%s는 어떤 형태의 값이든 변환하여 넣을 수 있다.\n",
        "a = \"rate is %s\"\n",
        "print(a % 3)\n",
        "print(a % 3.123)"
      ],
      "metadata": {
        "id": "7HuZOfPVVl_4",
        "colab": {
          "base_uri": "https://localhost:8080/"
        },
        "outputId": "bc88c7a7-807c-4e5f-f817-813f029eb07d"
      },
      "execution_count": null,
      "outputs": [
        {
          "output_type": "stream",
          "name": "stdout",
          "text": [
            "rate is 3\n",
            "rate is 3.456\n"
          ]
        }
      ]
    },
    {
      "cell_type": "code",
      "source": [
        "#%d와 %를 같이 쓸때는 %%를 쓴다.\n",
        "print(\"Error is %d%%\" %98)"
      ],
      "metadata": {
        "colab": {
          "base_uri": "https://localhost:8080/"
        },
        "id": "dagwghh4KLP3",
        "outputId": "b91f5ca1-b1df-42dd-b137-423e6e17e366"
      },
      "execution_count": null,
      "outputs": [
        {
          "output_type": "stream",
          "name": "stdout",
          "text": [
            "Error is 98%\n"
          ]
        }
      ]
    },
    {
      "cell_type": "code",
      "source": [
        "#4-7 포맷 코드와 숫자 함께 사용하기\n",
        "#1. 정렬과 공백\n",
        "print(\"hi\")\n",
        "print(\"%10s\" % \"hi\") #>> %10s : 전체길이가 10개인 문자열 공간에\n",
        "                     #          대입되는 값(hi)를 오른쪽으로 정렬, 나머지는 공백으로\n",
        "print(\"%-10s\" %\"hi\") #>> %-10s : 왼쪽 정렬\n",
        "print(\"%-10sjane.\" %\"hi\") #>> %-10s : 왼쪽 정렬"
      ],
      "metadata": {
        "colab": {
          "base_uri": "https://localhost:8080/"
        },
        "id": "LNtNV4xwKLSc",
        "outputId": "8f470df0-3880-4421-d661-169fedb4fe1b"
      },
      "execution_count": null,
      "outputs": [
        {
          "output_type": "stream",
          "name": "stdout",
          "text": [
            "hi\n",
            "        hi\n",
            "hi        \n",
            "hi        jane.\n"
          ]
        }
      ]
    },
    {
      "cell_type": "code",
      "source": [
        "#2. 소수점 표현하기\n",
        "#소수점을 일정 자리까지 나타내기\n",
        "a = 3.5465132\n",
        "print(\"%0.4f\" %a)\n",
        "#소수점 포인트 앞의 숫자는 문자열 전체의 길이.(0은 길이 상관X)\n",
        "#%0.4f == %.4f\n",
        "print(\"%10.4f\" %a)\n",
        "#%10.4f\n",
        "#1. 소수점 4번째 자리까지만 표시\n",
        "#2. 전체 길이가 10개인 문자열 공간에서 오른쪽으로 정렬"
      ],
      "metadata": {
        "colab": {
          "base_uri": "https://localhost:8080/"
        },
        "id": "u1OkFaEANkI3",
        "outputId": "8c800145-ba72-4ec7-a9e8-81e8fdd63fe5"
      },
      "execution_count": null,
      "outputs": [
        {
          "output_type": "stream",
          "name": "stdout",
          "text": [
            "3.5465\n",
            "    3.5465\n"
          ]
        }
      ]
    },
    {
      "cell_type": "code",
      "source": [
        "#4-8 format함수를 사용한 포매팅"
      ],
      "metadata": {
        "id": "AY88v57rKLUt"
      },
      "execution_count": null,
      "outputs": []
    },
    {
      "cell_type": "code",
      "source": [
        "#1. 숫자 바로 대입하기\n",
        "string = \"I eat {0} apples\"\n",
        "print(string.format(3))\n",
        "#2. 문자열 바로 대입하기\n",
        "print(string.format(\"five\"))\n",
        "#3. 숫자 값을 가진 변수로 대입하기\n",
        "num = 3\n",
        "print(string.format(num))"
      ],
      "metadata": {
        "colab": {
          "base_uri": "https://localhost:8080/"
        },
        "id": "sK5HZpRXPSNz",
        "outputId": "3ab69d4c-1700-4a5e-fde6-36167b033d75"
      },
      "execution_count": null,
      "outputs": [
        {
          "output_type": "stream",
          "name": "stdout",
          "text": [
            "I eat 3 apples\n",
            "I eat five apples\n",
            "I eat 3 apples\n"
          ]
        }
      ]
    },
    {
      "cell_type": "code",
      "source": [
        "#4. 2개 이상의 값 넣기\n",
        "day = \"three\"\n",
        "print(\"I ate {0} apples. so I was sick for {1} days\".format(num, day))\n",
        "#5. 이름으로 넣기\n",
        "print(\"I ate {num} apples. so I was sick for {day} days\".format(num=10, day=5))\n",
        "#6. 인덱스와 이름을 혼용해서 넣기\n",
        "print(\"I ate {0} apples. so I was sick for {day} days\".format(num, day=5))"
      ],
      "metadata": {
        "colab": {
          "base_uri": "https://localhost:8080/"
        },
        "id": "3RdeQMPES2-B",
        "outputId": "b9a38249-d064-4ec0-921d-54c53fba92ca"
      },
      "execution_count": null,
      "outputs": [
        {
          "output_type": "stream",
          "name": "stdout",
          "text": [
            "I ate 3 apples. so I was sick for three days\n",
            "I ate 10 apples. so I was sick for 5 days\n",
            "I ate 3 apples. so I was sick for 5 days\n"
          ]
        }
      ]
    },
    {
      "cell_type": "code",
      "source": [
        "#7. 왼쪽/오른쪽/가운데 정렬, 공백 채우기\n",
        "print(\"{0:<10}\".format(\"hi\")) #:<10 >> 치환되는 문자열 왼쪽 정렬, 총 자릿수 10\n",
        "print(\"{0:>10}\".format(\"hi\")) #오른쪽 정렬\n",
        "print(\"{0:^10}\".format(\"hi\")) #가운데 정렬\n",
        "print(\"{0:=^10}\".format(\"hi\")) #정렬문자 앞에 지정한 문자 값으로 공백 채우기\n",
        "print(\"{0:!>10}\".format(\"hi\"))"
      ],
      "metadata": {
        "colab": {
          "base_uri": "https://localhost:8080/"
        },
        "id": "1W0fu81qSyud",
        "outputId": "51b4000c-83e5-40b7-c024-6edcde801d0a"
      },
      "execution_count": null,
      "outputs": [
        {
          "output_type": "stream",
          "name": "stdout",
          "text": [
            "hi        \n",
            "        hi\n",
            "    hi    \n",
            "====hi====\n",
            "!!!!!!!!hi\n"
          ]
        }
      ]
    },
    {
      "cell_type": "code",
      "source": [
        "#8. 소수점 표현하기\n",
        "x = 3.123123456\n",
        "print(\"{0:0.4f}\".format(x))\n",
        "print(\"{0:7.4f}\".format(x))\n",
        "#9. {또는} 문자 표현하기(중괄호 문자를 포매팅 문자가 아닌 문자 그대로 사용)\n",
        "print(\"{{and}}\".format())"
      ],
      "metadata": {
        "colab": {
          "base_uri": "https://localhost:8080/"
        },
        "id": "at9SYitlS43u",
        "outputId": "58f154e4-5fde-4801-c1fb-c7abdb9d916a"
      },
      "execution_count": null,
      "outputs": [
        {
          "output_type": "stream",
          "name": "stdout",
          "text": [
            "3.1231\n",
            " 3.1231\n",
            "{and}\n"
          ]
        }
      ]
    },
    {
      "cell_type": "code",
      "source": [
        "#4-9 f 문자열 포매팅\n",
        "name = \"이름\"\n",
        "age = \"123\"\n",
        "print(f\"나의 이름은 {name}입니다. 나이는 {age}입니다.\")"
      ],
      "metadata": {
        "colab": {
          "base_uri": "https://localhost:8080/"
        },
        "id": "RB3hBNEkNkMi",
        "outputId": "c2f3fa3f-695a-41d7-8d64-ab27223cbe2c"
      },
      "execution_count": null,
      "outputs": [
        {
          "output_type": "stream",
          "name": "stdout",
          "text": [
            "나의 이름은 이름입니다. 나이는 123입니다.\n"
          ]
        }
      ]
    },
    {
      "cell_type": "code",
      "source": [
        "#딕셔너리\n",
        "d = {\"name\":\"이름\", \"age\":\"30\"}\n",
        "print(f\"나의 이름은 {d['name']}입니다. 나이는 {d['age']}입니다.\")\n",
        "#f문자열을 사용하여 금액에 콤마 삽입\n",
        "print(f\"난 {15000000:,}원이 필요해\")"
      ],
      "metadata": {
        "colab": {
          "base_uri": "https://localhost:8080/"
        },
        "id": "oPz_YxU6Ut-y",
        "outputId": "e01df186-2e51-4a15-cd1b-eff8f1b95696"
      },
      "execution_count": null,
      "outputs": [
        {
          "output_type": "stream",
          "name": "stdout",
          "text": [
            "나의 이름은 이름입니다. 나이는 30입니다.\n",
            "난 15,000,000원이 필요해\n"
          ]
        }
      ]
    },
    {
      "cell_type": "code",
      "source": [
        "#4-10 문자열 관련 함수들\n",
        "#1. 문자 개수 세기 : count\n",
        "ck = \"{num}\" + \"=\" * 50\n",
        "print(ck.format(num=1))\n",
        "a = \"Python is the best choice\"\n",
        "print(a.count(\"e\"))\n",
        "#2. 위치 알려주기 1 - find\n",
        "print(ck.format(num=2))\n",
        "print(a.find(\"i\"))\n",
        "print(a.find(\"a\"))\n",
        "#3. 위치 알려주기 2 - index\n",
        "print(ck.format(num=3))\n",
        "print(a.index(\"b\"))\n",
        "#print(a.index(\"k\")) << 없으면 오류"
      ],
      "metadata": {
        "colab": {
          "base_uri": "https://localhost:8080/"
        },
        "id": "ER-99w-VKLXJ",
        "outputId": "28fd6c3b-b78f-49d7-e94f-8e3d779b8987"
      },
      "execution_count": null,
      "outputs": [
        {
          "output_type": "stream",
          "name": "stdout",
          "text": [
            "1==================================================\n",
            "3\n",
            "2==================================================\n",
            "7\n",
            "-1\n",
            "3==================================================\n",
            "14\n"
          ]
        }
      ]
    },
    {
      "cell_type": "code",
      "source": [
        "#4. 문자열 삽입\n",
        "print(ck.format(num=4))\n",
        "print(\",\".join(\"abcd\"))\n",
        "print(\",\".join([\"a\",\"b\", \"c\", \"d\"]))\n",
        "#5. 소문자/대문자 변경\n",
        "print(ck.format(num=5))\n",
        "a = \"hi\"\n",
        "A = \"HI\"\n",
        "print(a.upper())\n",
        "print(A.lower())\n",
        "#6. 공백 지우기(왼쪽, 오른쪽, 양쪽)\n",
        "print(ck.format(num=6))\n",
        "l = \" hi\"\n",
        "r = \"hi \"\n",
        "s = \" hi \"\n",
        "print(l.lstrip()) #왼쪽공백지우기\n",
        "print(r.lstrip()) #오른쪽공백지우기\n",
        "print(s.strip())  #양쪽공백지우기\n",
        "#7. 문자열 바꾸기\n",
        "print(ck.format(num=7))\n",
        "a = \"Life is too short\"\n",
        "print(a.replace(\"Life\", \"Your leg\"))\n",
        "#8. 문자열 나누기\n",
        "print(ck.format(num=8))\n",
        "a.split()\n",
        "print(a.split())\n",
        "b = \"a:b:c:d\"\n",
        "print(b.split(\":\")) #':' 을 기준으로 split\n",
        "#+a)\n",
        "print(b) #<<값이 바뀌진 않음."
      ],
      "metadata": {
        "colab": {
          "base_uri": "https://localhost:8080/"
        },
        "id": "xUjSE-QVcR1g",
        "outputId": "fecfde4e-7ba0-41a2-b01b-b91ea1f07e00"
      },
      "execution_count": null,
      "outputs": [
        {
          "output_type": "stream",
          "name": "stdout",
          "text": [
            "4==================================================\n",
            "a,b,c,d\n",
            "a,b,c,d\n",
            "5==================================================\n",
            "HI\n",
            "hi\n",
            "6==================================================\n",
            "hi\n",
            "hi \n",
            "hi\n",
            "7==================================================\n",
            "Your leg is too short\n",
            "8==================================================\n",
            "['Life', 'is', 'too', 'short']\n",
            "['a', 'b', 'c', 'd']\n",
            "a:b:c:d\n"
          ]
        }
      ]
    },
    {
      "cell_type": "markdown",
      "source": [
        "# 02-3 리스트 자료형"
      ],
      "metadata": {
        "id": "XddSWZSDPJXl"
      }
    },
    {
      "cell_type": "code",
      "source": [
        "#1. 리스트\n",
        "a = [1, 2, 5, 6] #리스트명 = [요소1, 요소2, 요소3, ...]\n",
        "#요소에는 숫자형, 문자열등이 들어갈 수 있음\n",
        "b = [1, 2, \"a\", \"b\"]\n",
        "c = [1, 2, [\"a\", \"b\"]]\n",
        "d = list()"
      ],
      "metadata": {
        "id": "CJFwyka_cQ0b"
      },
      "execution_count": 3,
      "outputs": []
    },
    {
      "cell_type": "code",
      "source": [
        "#2. 리스트 인덱싱, 슬라이싱\n",
        "#2-1. 인덱싱\n",
        "a = [1, 2, 3]\n",
        "print(a[0]) #0부터 시작\n",
        "print(a[-1])\n",
        "b = [1, 2, [\"a\", \"b\"]]\n",
        "print(b[2]) #요소1 == 1, 요소2 == 2, 요소3 == [\"a\", \"b\"]\n",
        "print(b[2][1]) #요소3에서 요소2 빼오기\n"
      ],
      "metadata": {
        "id": "hN4GeQLAcQ24",
        "colab": {
          "base_uri": "https://localhost:8080/"
        },
        "outputId": "1c4f462c-4cc8-46d4-93d2-fee9df2515e7"
      },
      "execution_count": 10,
      "outputs": [
        {
          "output_type": "stream",
          "name": "stdout",
          "text": [
            "1\n",
            "3\n",
            "['a', 'b']\n",
            "b\n"
          ]
        }
      ]
    },
    {
      "cell_type": "code",
      "source": [
        "#2-2. 슬라이싱\n",
        "a = [1, 2, 3, 4, 5]\n",
        "print(a[0:3]) #0이상, 3미만\n",
        "b = [1, 2, [\"a\", \"b\"], 3]\n",
        "print(b[2][0])"
      ],
      "metadata": {
        "colab": {
          "base_uri": "https://localhost:8080/"
        },
        "id": "p6lOqAeK44IY",
        "outputId": "ed181cb7-fd52-4bff-ccbe-6a54180577a1"
      },
      "execution_count": 1,
      "outputs": [
        {
          "output_type": "stream",
          "name": "stdout",
          "text": [
            "[1, 2, 3]\n",
            "a\n"
          ]
        }
      ]
    },
    {
      "cell_type": "code",
      "source": [
        "#3. 리스트 연산\n",
        "#3-1. 리스트 더하기\n",
        "a = [1, 2, 3]\n",
        "b = [4, 5, 6]\n",
        "print(a+b)"
      ],
      "metadata": {
        "id": "pq6GqnVEcQ5E",
        "colab": {
          "base_uri": "https://localhost:8080/"
        },
        "outputId": "829a2f05-c0a0-4c79-c988-786beb607f60"
      },
      "execution_count": 3,
      "outputs": [
        {
          "output_type": "stream",
          "name": "stdout",
          "text": [
            "[1, 2, 3, 4, 5, 6]\n"
          ]
        }
      ]
    },
    {
      "cell_type": "code",
      "source": [
        "#3-2. 리스트 반복하기\n",
        "a = [1, 2, 3]\n",
        "a * 3"
      ],
      "metadata": {
        "colab": {
          "base_uri": "https://localhost:8080/"
        },
        "id": "JU3XP0EYEpBE",
        "outputId": "654f34fe-8af3-4f90-f971-3b449d1d614d"
      },
      "execution_count": 5,
      "outputs": [
        {
          "output_type": "execute_result",
          "data": {
            "text/plain": [
              "[1, 2, 3, 1, 2, 3, 1, 2, 3]"
            ]
          },
          "metadata": {},
          "execution_count": 5
        }
      ]
    },
    {
      "cell_type": "code",
      "source": [
        "a = [1, 2, 3]\n",
        "print(len(a))\n",
        "string = \"Hello wolrd!\"\n",
        "print(len(string))"
      ],
      "metadata": {
        "colab": {
          "base_uri": "https://localhost:8080/"
        },
        "id": "W0i9Lc0vEyVA",
        "outputId": "00872979-589c-444d-ac78-39572b73796a"
      },
      "execution_count": 6,
      "outputs": [
        {
          "output_type": "stream",
          "name": "stdout",
          "text": [
            "3\n",
            "12\n"
          ]
        }
      ]
    },
    {
      "cell_type": "code",
      "source": [
        "#4. 리스트 수정, 삭제\n",
        "#4-1. 리스트의 값 수정하기\n",
        "a = [1, 2, 3, 4, 5]\n",
        "a[3] = 0\n",
        "a #[1, 2, 3, 0, 5]"
      ],
      "metadata": {
        "id": "DAfC3Z_bPM1T",
        "colab": {
          "base_uri": "https://localhost:8080/"
        },
        "outputId": "40e4c41c-2495-4d0f-be7c-72f5d0ca8cd4"
      },
      "execution_count": 8,
      "outputs": [
        {
          "output_type": "execute_result",
          "data": {
            "text/plain": [
              "[1, 2, 3, 0, 5]"
            ]
          },
          "metadata": {},
          "execution_count": 8
        }
      ]
    },
    {
      "cell_type": "code",
      "source": [
        "#4-2. del 함수를 사용해 리스트 요소 삭제하기\n",
        "a = [1, 2, 3, 4, 5]\n",
        "del a[2] #del 객체\n",
        "print(a)\n",
        "del a[0:2]\n",
        "print(a)"
      ],
      "metadata": {
        "colab": {
          "base_uri": "https://localhost:8080/"
        },
        "id": "_8T-QNvgFaxk",
        "outputId": "eb99d7b3-c442-420d-b288-e5e9aa001818"
      },
      "execution_count": 11,
      "outputs": [
        {
          "output_type": "stream",
          "name": "stdout",
          "text": [
            "[1, 2, 4, 5]\n",
            "[4, 5]\n"
          ]
        }
      ]
    },
    {
      "cell_type": "code",
      "source": [
        "#5. 리스트 관련 함수"
      ],
      "metadata": {
        "id": "_BPS0ndV2nwP"
      },
      "execution_count": 1,
      "outputs": []
    },
    {
      "cell_type": "code",
      "source": [
        "#5-1. append : 리스트에 요소 추가\n",
        "a = [1, 2, 3]\n",
        "a.append(5) #리스트 마지막에 추가\n",
        "print(a)\n",
        "a.append([7, 8])\n",
        "print(a)"
      ],
      "metadata": {
        "colab": {
          "base_uri": "https://localhost:8080/"
        },
        "id": "nJ7HF93K2nyq",
        "outputId": "375e724a-a699-43f5-c865-1b90390252e8"
      },
      "execution_count": 13,
      "outputs": [
        {
          "output_type": "stream",
          "name": "stdout",
          "text": [
            "[1, 2, 3, 5]\n",
            "[1, 2, 3, 5, [7, 8]]\n"
          ]
        }
      ]
    },
    {
      "cell_type": "code",
      "source": [
        "#5-2. reverse : 리스트 뒤집기\n",
        "a = [1, 2, 3]\n",
        "a.reverse()\n",
        "print(a)\n",
        "b = [\"a\", \"b\", \"c\"]\n",
        "print(b)"
      ],
      "metadata": {
        "colab": {
          "base_uri": "https://localhost:8080/"
        },
        "id": "3UvDWwdP2n00",
        "outputId": "ac7215b7-1cdb-4c8c-eb37-00024907d26f"
      },
      "execution_count": 15,
      "outputs": [
        {
          "output_type": "stream",
          "name": "stdout",
          "text": [
            "[3, 2, 1]\n",
            "['a', 'b', 'c']\n"
          ]
        }
      ]
    },
    {
      "cell_type": "code",
      "source": [
        "#5-3. index : 인덱스 반환\n",
        "a = [1, 2, 3]\n",
        "a.index(3) #x의 인덱스 값(위칫값)을 리턴, 값이 없으면 오류"
      ],
      "metadata": {
        "colab": {
          "base_uri": "https://localhost:8080/"
        },
        "id": "J5Es9-2g2n3K",
        "outputId": "51a78ced-ed95-45e1-9876-a2de4cb4ddd8"
      },
      "execution_count": 17,
      "outputs": [
        {
          "output_type": "execute_result",
          "data": {
            "text/plain": [
              "2"
            ]
          },
          "metadata": {},
          "execution_count": 17
        }
      ]
    },
    {
      "cell_type": "code",
      "source": [
        "#5-4. insert : 리스트에 요소 삽입\n",
        "a = [1, 2, 3]\n",
        "a.insert(0, 9) #0번째 위치에 9를 삽입\n",
        "print(a)\n",
        "a.insert(3, [1, 2])\n",
        "print(a)"
      ],
      "metadata": {
        "colab": {
          "base_uri": "https://localhost:8080/"
        },
        "id": "VMD8g_jKGmU-",
        "outputId": "69d00ec0-1b9c-4a02-d43c-c98c78baad03"
      },
      "execution_count": 22,
      "outputs": [
        {
          "output_type": "stream",
          "name": "stdout",
          "text": [
            "[9, 1, 2, 3]\n",
            "[9, 1, 2, [1, 2], 3]\n"
          ]
        }
      ]
    },
    {
      "cell_type": "code",
      "source": [
        "#5-5. remove : 리스트 요소 제거\n",
        "a = [1, 2, 3, 1, 2, 3]\n",
        "a.remove(2)\n",
        "print(a) #첫 번째 2만 삭제\n",
        "a.remove(2)\n",
        "print(a) #2 전부 삭제"
      ],
      "metadata": {
        "colab": {
          "base_uri": "https://localhost:8080/"
        },
        "id": "Q8QKBv1cHK6O",
        "outputId": "8308cc16-1ba9-4584-dcd8-3346f7c05e81"
      },
      "execution_count": 25,
      "outputs": [
        {
          "output_type": "stream",
          "name": "stdout",
          "text": [
            "[1, 3, 1, 2, 3]\n",
            "[1, 3, 1, 3]\n"
          ]
        }
      ]
    },
    {
      "cell_type": "code",
      "source": [
        "#5-6. pop : 리스트 요소 끄집어 내기\n",
        "a = [1, 2, 3]\n",
        "a.pop() #맨 마지막 요소를 끄집어내고 삭제\n",
        "print(a)\n",
        "a.pop(1) #특정 요소 끄집어내기 가능\n",
        "print(a)"
      ],
      "metadata": {
        "colab": {
          "base_uri": "https://localhost:8080/"
        },
        "id": "XY2tT3mqHbcP",
        "outputId": "b423a857-fc0c-40cf-c650-d72def3cdd59"
      },
      "execution_count": 29,
      "outputs": [
        {
          "output_type": "stream",
          "name": "stdout",
          "text": [
            "[1, 2]\n",
            "[1]\n"
          ]
        }
      ]
    },
    {
      "cell_type": "code",
      "source": [
        "#5-7. count ; 리스트에 포함된 요소 x의 개수 세기\n",
        "a = [1, 2, 3, 2]\n",
        "a.count(2)\n",
        "a"
      ],
      "metadata": {
        "colab": {
          "base_uri": "https://localhost:8080/"
        },
        "id": "5tz6Dp9IH5gS",
        "outputId": "5f6e6932-7264-41cc-cb5a-4841f93ba8a4"
      },
      "execution_count": 30,
      "outputs": [
        {
          "output_type": "execute_result",
          "data": {
            "text/plain": [
              "[1, 2, 3, 2]"
            ]
          },
          "metadata": {},
          "execution_count": 30
        }
      ]
    },
    {
      "cell_type": "code",
      "source": [
        "#5-8. extend : 리스트 확장\n",
        "a = [1, 2, 3]\n",
        "a.extend([9, 8])\n",
        "a #원래의 리스트에 다른 리스트를 더함"
      ],
      "metadata": {
        "colab": {
          "base_uri": "https://localhost:8080/"
        },
        "id": "JGG5CxyEIFoI",
        "outputId": "0e101b12-523b-4552-b037-4db6089e97f7"
      },
      "execution_count": 32,
      "outputs": [
        {
          "output_type": "execute_result",
          "data": {
            "text/plain": [
              "[1, 2, 3, 9, 8]"
            ]
          },
          "metadata": {},
          "execution_count": 32
        }
      ]
    }
  ]
}